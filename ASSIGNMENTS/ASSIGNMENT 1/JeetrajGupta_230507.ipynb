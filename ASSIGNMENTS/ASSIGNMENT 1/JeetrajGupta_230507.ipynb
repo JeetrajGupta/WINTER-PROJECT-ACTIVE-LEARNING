{
 "cells": [
  {
   "cell_type": "markdown",
   "id": "05e54d99",
   "metadata": {},
   "source": [
    "Q.1>"
   ]
  },
  {
   "cell_type": "code",
   "execution_count": 1,
   "id": "f7e0698a-d142-47cd-8953-4b81931a5c01",
   "metadata": {},
   "outputs": [
    {
     "name": "stdout",
     "output_type": "stream",
     "text": [
      "[0, 1, 1, 2, 3, 5, 8, 13, 21, 34]\n"
     ]
    }
   ],
   "source": [
    "def FibonacciN(N):\n",
    "    list = [0,1]\n",
    "    for i in range(2,N):\n",
    "        list.append(list[i-2]+list[i-1])\n",
    "    return list\n",
    "\n",
    "print(FibonacciN(10))"
   ]
  },
  {
   "cell_type": "markdown",
   "id": "88edda1c",
   "metadata": {},
   "source": [
    "Control Flow and Loops"
   ]
  },
  {
   "cell_type": "markdown",
   "id": "7db991b1",
   "metadata": {},
   "source": [
    "Q.2>"
   ]
  },
  {
   "cell_type": "code",
   "execution_count": 2,
   "id": "7b06b372-ca16-40e6-92f3-ca888b1c04c0",
   "metadata": {},
   "outputs": [
    {
     "name": "stdout",
     "output_type": "stream",
     "text": [
      "[1, 4, 9, 16, 25, 36, 49, 64, 81, 100, 121, 144, 169, 196, 225, 256, 289, 324, 361, 400]\n",
      "---------------\n",
      "{1: 1, 2: 8, 3: 27, 4: 64, 5: 125, 6: 216, 7: 343, 8: 512, 9: 729, 10: 1000}\n"
     ]
    }
   ],
   "source": [
    "list=[x for x in range(1,21)]\n",
    "Square=[x**2 for x in list]\n",
    "print(Square)\n",
    "print('-'*15)\n",
    "list=[x for x in range(1,11)]\n",
    "Cube={x : x**3 for x in list}\n",
    "print(Cube)\n"
   ]
  },
  {
   "cell_type": "markdown",
   "id": "3c3c1b4e",
   "metadata": {},
   "source": [
    "List and Dictionary Comprehension"
   ]
  },
  {
   "cell_type": "markdown",
   "id": "59383ce8",
   "metadata": {},
   "source": [
    "Q.3>"
   ]
  },
  {
   "cell_type": "code",
   "execution_count": 3,
   "id": "a8859c7b-c5f6-43ab-ae3f-fdabc714eac2",
   "metadata": {},
   "outputs": [
    {
     "data": {
      "text/html": [
       "<div>\n",
       "<style scoped>\n",
       "    .dataframe tbody tr th:only-of-type {\n",
       "        vertical-align: middle;\n",
       "    }\n",
       "\n",
       "    .dataframe tbody tr th {\n",
       "        vertical-align: top;\n",
       "    }\n",
       "\n",
       "    .dataframe thead th {\n",
       "        text-align: right;\n",
       "    }\n",
       "</style>\n",
       "<table border=\"1\" class=\"dataframe\">\n",
       "  <thead>\n",
       "    <tr style=\"text-align: right;\">\n",
       "      <th></th>\n",
       "      <th>Name</th>\n",
       "      <th>Age</th>\n",
       "      <th>Score</th>\n",
       "    </tr>\n",
       "  </thead>\n",
       "  <tbody>\n",
       "    <tr>\n",
       "      <th>3</th>\n",
       "      <td>Mayank</td>\n",
       "      <td>21</td>\n",
       "      <td>80</td>\n",
       "    </tr>\n",
       "    <tr>\n",
       "      <th>4</th>\n",
       "      <td>Raj</td>\n",
       "      <td>22</td>\n",
       "      <td>85</td>\n",
       "    </tr>\n",
       "  </tbody>\n",
       "</table>\n",
       "</div>"
      ],
      "text/plain": [
       "     Name  Age  Score\n",
       "3  Mayank   21     80\n",
       "4     Raj   22     85"
      ]
     },
     "execution_count": 3,
     "metadata": {},
     "output_type": "execute_result"
    }
   ],
   "source": [
    "import pandas as pd\n",
    "D = {'Name': pd.Series(['Ayush', 'Vineet', 'Gukesh', 'Mayank', 'Raj']),\n",
    "     'Age': pd.Series([18,19,20,21,22]),\n",
    "     'Score': pd.Series([65,70,75,80,85])\n",
    "     }\n",
    "Df1 = pd.DataFrame(D)\n",
    "Df1.to_csv('data.csv', index = False)\n",
    "Df2 = pd.read_csv('data.csv')\n",
    "Df3 = Df2.loc[Df2['Score']>75]\n",
    "Df3"
   ]
  },
  {
   "cell_type": "markdown",
   "id": "855275e6",
   "metadata": {},
   "source": [
    "File Handling"
   ]
  },
  {
   "cell_type": "markdown",
   "id": "b041abbd",
   "metadata": {},
   "source": [
    "Q.4>"
   ]
  },
  {
   "cell_type": "code",
   "execution_count": 4,
   "id": "5f2db4d3",
   "metadata": {},
   "outputs": [
    {
     "name": "stdout",
     "output_type": "stream",
     "text": [
      "[71 21 78 87 66 52 51 15 31 85 47 80 96 89 32 92 88 63 37 83 74 63 45 83\n",
      " 61]\n",
      "MAX :  96 with index :  [12]\n",
      "MIN :  15 with index :  [7]\n",
      "[-1 -1 78 -1 66 52 -1 -1 -1 -1 -1 80 96 -1 32 92 88 -1 -1 -1 74 -1 -1 -1\n",
      " -1]\n"
     ]
    }
   ],
   "source": [
    "import numpy as np\n",
    "arr = np.random.randint(10,100,25)\n",
    "print(arr)\n",
    "print('MAX : ', arr.max(), 'with index : ', np.where(arr == arr.max())[0])\n",
    "print('MIN : ', arr.min(), 'with index : ', np.where(arr == arr.min())[0])\n",
    "print(np.where(arr%2!=0, -1, arr))"
   ]
  },
  {
   "cell_type": "markdown",
   "id": "3783b0fa",
   "metadata": {},
   "source": [
    "Array Operations"
   ]
  },
  {
   "cell_type": "markdown",
   "id": "45698141",
   "metadata": {},
   "source": [
    "Q.5>"
   ]
  },
  {
   "cell_type": "code",
   "execution_count": 5,
   "id": "ef70cd6d",
   "metadata": {},
   "outputs": [
    {
     "name": "stdout",
     "output_type": "stream",
     "text": [
      "[[0.88990917 0.44860706 0.77491297 0.52629624 0.19025327]\n",
      " [0.67401145 0.98313075 0.78156899 0.40309412 0.59183913]\n",
      " [0.70984985 0.02700472 0.52957338 0.01456078 0.69328493]\n",
      " [0.55949667 0.6002581  0.23663583 0.04575179 0.77691615]\n",
      " [0.9271188  0.68500488 0.48027219 0.79618544 0.66193401]]\n",
      "---------------\n",
      "[0.88990917 0.98313075 0.52957338 0.04575179 0.66193401]\n",
      "---------------\n",
      "5.201333653286347\n"
     ]
    }
   ],
   "source": [
    "arr = np.random.rand(5,5)\n",
    "print(arr)\n",
    "print('-'*15)\n",
    "print(np.diag(arr))\n",
    "print('-'*15)\n",
    "print(np.sum(arr[np.triu_indices(arr.shape[0], k = 1)]))"
   ]
  },
  {
   "cell_type": "markdown",
   "id": "fd74f2da",
   "metadata": {},
   "source": [
    "Matrix Manipulation"
   ]
  },
  {
   "cell_type": "markdown",
   "id": "90d0da24",
   "metadata": {},
   "source": [
    "Q.6>"
   ]
  },
  {
   "cell_type": "code",
   "execution_count": 6,
   "id": "46f16c10",
   "metadata": {},
   "outputs": [
    {
     "name": "stdout",
     "output_type": "stream",
     "text": [
      "float64\n",
      "---------------\n",
      "0.4637707243144851\n",
      "---------------\n",
      "0.42817161629400696\n",
      "---------------\n",
      "0.27086609389962946\n",
      "---------------\n",
      "[array([[ 0.63551614, -0.12630474,  0.3745467 ,  0.4160662 ,  0.64831715],\n",
      "       [ 0.75179718, -0.23772662, -0.99255961, -0.85041985,  1.46303446],\n",
      "       [ 0.47268067, -0.92253313,  1.6726845 , -1.52926245,  1.12362238],\n",
      "       [ 0.7021655 , -0.36955841,  0.86571841, -0.21542715, -1.43100385]]), array([[ 1.7428024 , -0.12008716,  0.75964109,  0.65396841, -0.92312584],\n",
      "       [-0.41441615, -1.28601882, -0.71308123,  1.89157629, -0.19364551],\n",
      "       [ 1.05756689, -1.08212741, -0.09619771,  0.40713055, -1.25969141],\n",
      "       [-0.4835836 , -1.23780126,  1.97398481, -1.31923938,  1.91397824]]), array([[ 0.10777082,  0.73175936, -0.80617917,  1.10971553,  0.7870421 ],\n",
      "       [ 1.05944121, -0.72709496, -1.42732732, -0.17819418, -0.46506381],\n",
      "       [-1.55510991, -1.50933802, -0.17495096,  1.22481759,  0.068258  ],\n",
      "       [-0.51003192, -0.13654919, -0.99975417, -1.36666408,  1.04446639]])]\n"
     ]
    }
   ],
   "source": [
    "arr = np.random.rand(3,4,5)\n",
    "print(arr.dtype)\n",
    "print('-'*15)\n",
    "k = arr.mean()\n",
    "l = np.median(arr)\n",
    "m = arr.std()\n",
    "print(k)\n",
    "print('-'*15)\n",
    "print(l)\n",
    "print('-'*15)\n",
    "print(m)\n",
    "print('-'*15)\n",
    "n = [(x-k)/m for x in arr]\n",
    "np.array(n)\n",
    "print(n)\n",
    "\n"
   ]
  },
  {
   "cell_type": "markdown",
   "id": "6d69acfb",
   "metadata": {},
   "source": [
    "Satistical Functions"
   ]
  },
  {
   "cell_type": "markdown",
   "id": "1f9a2490",
   "metadata": {},
   "source": [
    "Q.7>"
   ]
  },
  {
   "cell_type": "code",
   "execution_count": 7,
   "id": "acac483a",
   "metadata": {},
   "outputs": [
    {
     "name": "stdout",
     "output_type": "stream",
     "text": [
      "[[1.61350806 1.64167086 1.32798644 1.68958045]\n",
      " [1.00330687 0.51468282 0.30346971 1.01803602]\n",
      " [0.89208997 1.03691458 1.16073516 0.41064763]\n",
      " [0.07727108 0.22381658 0.5074674  0.33530115]]\n"
     ]
    }
   ],
   "source": [
    "arr1 = np.random.rand(4,4)\n",
    "arr2 = np.random.rand(4,1)\n",
    "\n",
    "result = arr1+arr2\n",
    "\n",
    "print(result)"
   ]
  },
  {
   "cell_type": "markdown",
   "id": "479af886",
   "metadata": {},
   "source": [
    "Broaadcasting and indexing"
   ]
  },
  {
   "cell_type": "markdown",
   "id": "d31bdc85",
   "metadata": {},
   "source": [
    "Q.8>"
   ]
  },
  {
   "cell_type": "code",
   "execution_count": 8,
   "id": "08035ce3",
   "metadata": {},
   "outputs": [
    {
     "data": {
      "text/html": [
       "<div>\n",
       "<style scoped>\n",
       "    .dataframe tbody tr th:only-of-type {\n",
       "        vertical-align: middle;\n",
       "    }\n",
       "\n",
       "    .dataframe tbody tr th {\n",
       "        vertical-align: top;\n",
       "    }\n",
       "\n",
       "    .dataframe thead th {\n",
       "        text-align: right;\n",
       "    }\n",
       "</style>\n",
       "<table border=\"1\" class=\"dataframe\">\n",
       "  <thead>\n",
       "    <tr style=\"text-align: right;\">\n",
       "      <th></th>\n",
       "      <th>Product</th>\n",
       "      <th>Price</th>\n",
       "      <th>Quantity</th>\n",
       "      <th>Total Value</th>\n",
       "    </tr>\n",
       "  </thead>\n",
       "  <tbody>\n",
       "    <tr>\n",
       "      <th>0</th>\n",
       "      <td>Sharpner</td>\n",
       "      <td>5</td>\n",
       "      <td>1</td>\n",
       "      <td>5</td>\n",
       "    </tr>\n",
       "    <tr>\n",
       "      <th>1</th>\n",
       "      <td>Eraser</td>\n",
       "      <td>5</td>\n",
       "      <td>1</td>\n",
       "      <td>5</td>\n",
       "    </tr>\n",
       "    <tr>\n",
       "      <th>2</th>\n",
       "      <td>Scale</td>\n",
       "      <td>10</td>\n",
       "      <td>1</td>\n",
       "      <td>10</td>\n",
       "    </tr>\n",
       "    <tr>\n",
       "      <th>3</th>\n",
       "      <td>Compass</td>\n",
       "      <td>20</td>\n",
       "      <td>1</td>\n",
       "      <td>20</td>\n",
       "    </tr>\n",
       "    <tr>\n",
       "      <th>4</th>\n",
       "      <td>Pencil</td>\n",
       "      <td>5</td>\n",
       "      <td>5</td>\n",
       "      <td>25</td>\n",
       "    </tr>\n",
       "    <tr>\n",
       "      <th>5</th>\n",
       "      <td>Pen</td>\n",
       "      <td>10</td>\n",
       "      <td>5</td>\n",
       "      <td>50</td>\n",
       "    </tr>\n",
       "    <tr>\n",
       "      <th>6</th>\n",
       "      <td>Copy</td>\n",
       "      <td>50</td>\n",
       "      <td>6</td>\n",
       "      <td>300</td>\n",
       "    </tr>\n",
       "    <tr>\n",
       "      <th>7</th>\n",
       "      <td>Book</td>\n",
       "      <td>100</td>\n",
       "      <td>5</td>\n",
       "      <td>500</td>\n",
       "    </tr>\n",
       "  </tbody>\n",
       "</table>\n",
       "</div>"
      ],
      "text/plain": [
       "    Product  Price  Quantity  Total Value\n",
       "0  Sharpner      5         1            5\n",
       "1    Eraser      5         1            5\n",
       "2     Scale     10         1           10\n",
       "3   Compass     20         1           20\n",
       "4    Pencil      5         5           25\n",
       "5       Pen     10         5           50\n",
       "6      Copy     50         6          300\n",
       "7      Book    100         5          500"
      ]
     },
     "execution_count": 8,
     "metadata": {},
     "output_type": "execute_result"
    }
   ],
   "source": [
    "list = {'Product' : pd.Series(['Pen', 'Pencil', 'Eraser', 'Sharpner', 'Copy', 'Book', 'Scale', 'Compass']),\n",
    "        'Price' : pd.Series([10,5,5,5,50,100,10,20]),\n",
    "        'Quantity' : pd.Series([5,5,1,1,6,5,1,1])}\n",
    "DF1 = pd.DataFrame(list)\n",
    "DF1['Total Value'] = DF1['Price']*DF1['Quantity']\n",
    "DF1.sort_values(by = 'Total Value', ignore_index = True)\n"
   ]
  },
  {
   "cell_type": "markdown",
   "id": "41a56f0c",
   "metadata": {},
   "source": [
    "DataFrame Creation and Basic Operations"
   ]
  },
  {
   "cell_type": "markdown",
   "id": "e878dc2f",
   "metadata": {},
   "source": [
    "Q.9>"
   ]
  },
  {
   "cell_type": "code",
   "execution_count": 9,
   "id": "b50013df",
   "metadata": {},
   "outputs": [
    {
     "name": "stdout",
     "output_type": "stream",
     "text": [
      "     PassengerId  Survived  Pclass                                     Name  \\\n",
      "7              8         0       3           Palsson, Master. Gosta Leonard   \n",
      "9             10         1       2      Nasser, Mrs. Nicholas (Adele Achem)   \n",
      "10            11         1       3          Sandstrom, Miss. Marguerite Rut   \n",
      "14            15         0       3     Vestrom, Miss. Hulda Amanda Adolfina   \n",
      "16            17         0       3                     Rice, Master. Eugene   \n",
      "..           ...       ...     ...                                      ...   \n",
      "850          851         0       3  Andersson, Master. Sigvard Harald Elias   \n",
      "852          853         0       3                  Boulos, Miss. Nourelain   \n",
      "853          854         1       1                Lines, Miss. Mary Conover   \n",
      "869          870         1       3          Johnson, Master. Harold Theodor   \n",
      "875          876         1       3         Najib, Miss. Adele Kiamie \"Jane\"   \n",
      "\n",
      "        Sex   Age  SibSp  Parch    Ticket     Fare Cabin Embarked  \n",
      "7      male   2.0      3      1    349909  21.0750   NaN        S  \n",
      "9    female  14.0      1      0    237736  30.0708   NaN        C  \n",
      "10   female   4.0      1      1   PP 9549  16.7000    G6        S  \n",
      "14   female  14.0      0      0    350406   7.8542   NaN        S  \n",
      "16     male   2.0      4      1    382652  29.1250   NaN        Q  \n",
      "..      ...   ...    ...    ...       ...      ...   ...      ...  \n",
      "850    male   4.0      4      2    347082  31.2750   NaN        S  \n",
      "852  female   9.0      1      1      2678  15.2458   NaN        C  \n",
      "853  female  16.0      0      1  PC 17592  39.4000   D28        S  \n",
      "869    male   4.0      1      1    347742  11.1333   NaN        S  \n",
      "875  female  15.0      0      0      2667   7.2250   NaN        C  \n",
      "\n",
      "[113 rows x 12 columns]\n"
     ]
    },
    {
     "data": {
      "text/html": [
       "<div>\n",
       "<style scoped>\n",
       "    .dataframe tbody tr th:only-of-type {\n",
       "        vertical-align: middle;\n",
       "    }\n",
       "\n",
       "    .dataframe tbody tr th {\n",
       "        vertical-align: top;\n",
       "    }\n",
       "\n",
       "    .dataframe thead th {\n",
       "        text-align: right;\n",
       "    }\n",
       "</style>\n",
       "<table border=\"1\" class=\"dataframe\">\n",
       "  <thead>\n",
       "    <tr style=\"text-align: right;\">\n",
       "      <th></th>\n",
       "      <th>PassengerId</th>\n",
       "      <th>Survived</th>\n",
       "      <th>Pclass</th>\n",
       "      <th>Name</th>\n",
       "      <th>Sex</th>\n",
       "      <th>Age</th>\n",
       "      <th>SibSp</th>\n",
       "      <th>Parch</th>\n",
       "      <th>Ticket</th>\n",
       "      <th>Fare</th>\n",
       "      <th>Cabin</th>\n",
       "      <th>Embarked</th>\n",
       "    </tr>\n",
       "  </thead>\n",
       "  <tbody>\n",
       "    <tr>\n",
       "      <th>1</th>\n",
       "      <td>2</td>\n",
       "      <td>1</td>\n",
       "      <td>1</td>\n",
       "      <td>Cumings, Mrs. John Bradley (Florence Briggs Th...</td>\n",
       "      <td>female</td>\n",
       "      <td>38.0</td>\n",
       "      <td>1</td>\n",
       "      <td>0</td>\n",
       "      <td>PC 17599</td>\n",
       "      <td>71.2833</td>\n",
       "      <td>C85</td>\n",
       "      <td>C</td>\n",
       "    </tr>\n",
       "    <tr>\n",
       "      <th>2</th>\n",
       "      <td>3</td>\n",
       "      <td>1</td>\n",
       "      <td>3</td>\n",
       "      <td>Heikkinen, Miss. Laina</td>\n",
       "      <td>female</td>\n",
       "      <td>26.0</td>\n",
       "      <td>0</td>\n",
       "      <td>0</td>\n",
       "      <td>STON/O2. 3101282</td>\n",
       "      <td>7.9250</td>\n",
       "      <td>NaN</td>\n",
       "      <td>S</td>\n",
       "    </tr>\n",
       "    <tr>\n",
       "      <th>3</th>\n",
       "      <td>4</td>\n",
       "      <td>1</td>\n",
       "      <td>1</td>\n",
       "      <td>Futrelle, Mrs. Jacques Heath (Lily May Peel)</td>\n",
       "      <td>female</td>\n",
       "      <td>35.0</td>\n",
       "      <td>1</td>\n",
       "      <td>0</td>\n",
       "      <td>113803</td>\n",
       "      <td>53.1000</td>\n",
       "      <td>C123</td>\n",
       "      <td>S</td>\n",
       "    </tr>\n",
       "    <tr>\n",
       "      <th>8</th>\n",
       "      <td>9</td>\n",
       "      <td>1</td>\n",
       "      <td>3</td>\n",
       "      <td>Johnson, Mrs. Oscar W (Elisabeth Vilhelmina Berg)</td>\n",
       "      <td>female</td>\n",
       "      <td>27.0</td>\n",
       "      <td>0</td>\n",
       "      <td>2</td>\n",
       "      <td>347742</td>\n",
       "      <td>11.1333</td>\n",
       "      <td>NaN</td>\n",
       "      <td>S</td>\n",
       "    </tr>\n",
       "    <tr>\n",
       "      <th>9</th>\n",
       "      <td>10</td>\n",
       "      <td>1</td>\n",
       "      <td>2</td>\n",
       "      <td>Nasser, Mrs. Nicholas (Adele Achem)</td>\n",
       "      <td>female</td>\n",
       "      <td>14.0</td>\n",
       "      <td>1</td>\n",
       "      <td>0</td>\n",
       "      <td>237736</td>\n",
       "      <td>30.0708</td>\n",
       "      <td>NaN</td>\n",
       "      <td>C</td>\n",
       "    </tr>\n",
       "    <tr>\n",
       "      <th>...</th>\n",
       "      <td>...</td>\n",
       "      <td>...</td>\n",
       "      <td>...</td>\n",
       "      <td>...</td>\n",
       "      <td>...</td>\n",
       "      <td>...</td>\n",
       "      <td>...</td>\n",
       "      <td>...</td>\n",
       "      <td>...</td>\n",
       "      <td>...</td>\n",
       "      <td>...</td>\n",
       "      <td>...</td>\n",
       "    </tr>\n",
       "    <tr>\n",
       "      <th>874</th>\n",
       "      <td>875</td>\n",
       "      <td>1</td>\n",
       "      <td>2</td>\n",
       "      <td>Abelson, Mrs. Samuel (Hannah Wizosky)</td>\n",
       "      <td>female</td>\n",
       "      <td>28.0</td>\n",
       "      <td>1</td>\n",
       "      <td>0</td>\n",
       "      <td>P/PP 3381</td>\n",
       "      <td>24.0000</td>\n",
       "      <td>NaN</td>\n",
       "      <td>C</td>\n",
       "    </tr>\n",
       "    <tr>\n",
       "      <th>875</th>\n",
       "      <td>876</td>\n",
       "      <td>1</td>\n",
       "      <td>3</td>\n",
       "      <td>Najib, Miss. Adele Kiamie \"Jane\"</td>\n",
       "      <td>female</td>\n",
       "      <td>15.0</td>\n",
       "      <td>0</td>\n",
       "      <td>0</td>\n",
       "      <td>2667</td>\n",
       "      <td>7.2250</td>\n",
       "      <td>NaN</td>\n",
       "      <td>C</td>\n",
       "    </tr>\n",
       "    <tr>\n",
       "      <th>879</th>\n",
       "      <td>880</td>\n",
       "      <td>1</td>\n",
       "      <td>1</td>\n",
       "      <td>Potter, Mrs. Thomas Jr (Lily Alexenia Wilson)</td>\n",
       "      <td>female</td>\n",
       "      <td>56.0</td>\n",
       "      <td>0</td>\n",
       "      <td>1</td>\n",
       "      <td>11767</td>\n",
       "      <td>83.1583</td>\n",
       "      <td>C50</td>\n",
       "      <td>C</td>\n",
       "    </tr>\n",
       "    <tr>\n",
       "      <th>880</th>\n",
       "      <td>881</td>\n",
       "      <td>1</td>\n",
       "      <td>2</td>\n",
       "      <td>Shelley, Mrs. William (Imanita Parrish Hall)</td>\n",
       "      <td>female</td>\n",
       "      <td>25.0</td>\n",
       "      <td>0</td>\n",
       "      <td>1</td>\n",
       "      <td>230433</td>\n",
       "      <td>26.0000</td>\n",
       "      <td>NaN</td>\n",
       "      <td>S</td>\n",
       "    </tr>\n",
       "    <tr>\n",
       "      <th>887</th>\n",
       "      <td>888</td>\n",
       "      <td>1</td>\n",
       "      <td>1</td>\n",
       "      <td>Graham, Miss. Margaret Edith</td>\n",
       "      <td>female</td>\n",
       "      <td>19.0</td>\n",
       "      <td>0</td>\n",
       "      <td>0</td>\n",
       "      <td>112053</td>\n",
       "      <td>30.0000</td>\n",
       "      <td>B42</td>\n",
       "      <td>S</td>\n",
       "    </tr>\n",
       "  </tbody>\n",
       "</table>\n",
       "<p>233 rows × 12 columns</p>\n",
       "</div>"
      ],
      "text/plain": [
       "     PassengerId  Survived  Pclass  \\\n",
       "1              2         1       1   \n",
       "2              3         1       3   \n",
       "3              4         1       1   \n",
       "8              9         1       3   \n",
       "9             10         1       2   \n",
       "..           ...       ...     ...   \n",
       "874          875         1       2   \n",
       "875          876         1       3   \n",
       "879          880         1       1   \n",
       "880          881         1       2   \n",
       "887          888         1       1   \n",
       "\n",
       "                                                  Name     Sex   Age  SibSp  \\\n",
       "1    Cumings, Mrs. John Bradley (Florence Briggs Th...  female  38.0      1   \n",
       "2                               Heikkinen, Miss. Laina  female  26.0      0   \n",
       "3         Futrelle, Mrs. Jacques Heath (Lily May Peel)  female  35.0      1   \n",
       "8    Johnson, Mrs. Oscar W (Elisabeth Vilhelmina Berg)  female  27.0      0   \n",
       "9                  Nasser, Mrs. Nicholas (Adele Achem)  female  14.0      1   \n",
       "..                                                 ...     ...   ...    ...   \n",
       "874              Abelson, Mrs. Samuel (Hannah Wizosky)  female  28.0      1   \n",
       "875                   Najib, Miss. Adele Kiamie \"Jane\"  female  15.0      0   \n",
       "879      Potter, Mrs. Thomas Jr (Lily Alexenia Wilson)  female  56.0      0   \n",
       "880       Shelley, Mrs. William (Imanita Parrish Hall)  female  25.0      0   \n",
       "887                       Graham, Miss. Margaret Edith  female  19.0      0   \n",
       "\n",
       "     Parch            Ticket     Fare Cabin Embarked  \n",
       "1        0          PC 17599  71.2833   C85        C  \n",
       "2        0  STON/O2. 3101282   7.9250   NaN        S  \n",
       "3        0            113803  53.1000  C123        S  \n",
       "8        2            347742  11.1333   NaN        S  \n",
       "9        0            237736  30.0708   NaN        C  \n",
       "..     ...               ...      ...   ...      ...  \n",
       "874      0         P/PP 3381  24.0000   NaN        C  \n",
       "875      0              2667   7.2250   NaN        C  \n",
       "879      1             11767  83.1583   C50        C  \n",
       "880      1            230433  26.0000   NaN        S  \n",
       "887      0            112053  30.0000   B42        S  \n",
       "\n",
       "[233 rows x 12 columns]"
      ]
     },
     "execution_count": 9,
     "metadata": {},
     "output_type": "execute_result"
    }
   ],
   "source": [
    "DF2 = pd.read_csv(r'C:\\Users\\jeetr\\OneDrive\\Desktop\\JeetrajGupta_230507\\titanic.csv')\n",
    "DF3 = DF2[DF2['Age']<18]\n",
    "print(DF3)\n",
    "DF4 = DF2[(DF2['Sex'] == 'female') & (DF2['Survived'] == 1)]\n",
    "DF4\n"
   ]
  },
  {
   "cell_type": "markdown",
   "id": "5ab43784",
   "metadata": {},
   "source": [
    "Data Filtering"
   ]
  },
  {
   "cell_type": "markdown",
   "id": "503acccb",
   "metadata": {},
   "source": [
    "Q.10>"
   ]
  },
  {
   "cell_type": "code",
   "execution_count": 10,
   "id": "9aa0e0b3",
   "metadata": {},
   "outputs": [
    {
     "name": "stdout",
     "output_type": "stream",
     "text": [
      "species\n",
      "Iris-setosa        1.464\n",
      "Iris-versicolor    4.260\n",
      "Iris-virginica     5.552\n",
      "Name: petal_length, dtype: float64\n",
      "---------------\n",
      "species\n",
      "Iris-setosa        3.418\n",
      "Iris-versicolor    2.770\n",
      "Iris-virginica     2.974\n",
      "Name: sepal_width, dtype: float64\n"
     ]
    }
   ],
   "source": [
    "DF5 = pd.read_csv(r'C:\\Users\\jeetr\\OneDrive\\Desktop\\JeetrajGupta_230507\\IRIS.csv')\n",
    "print(DF5.groupby('species').mean()['petal_length'])\n",
    "print('-'*15)\n",
    "print(DF5.groupby('species').mean()['sepal_width'])"
   ]
  },
  {
   "cell_type": "markdown",
   "id": "9bf62265",
   "metadata": {},
   "source": [
    "Groupby Operations"
   ]
  },
  {
   "cell_type": "markdown",
   "id": "c6fbc168",
   "metadata": {},
   "source": [
    "Q.11>"
   ]
  },
  {
   "cell_type": "code",
   "execution_count": 11,
   "id": "09fa8797",
   "metadata": {},
   "outputs": [
    {
     "data": {
      "text/html": [
       "<div>\n",
       "<style scoped>\n",
       "    .dataframe tbody tr th:only-of-type {\n",
       "        vertical-align: middle;\n",
       "    }\n",
       "\n",
       "    .dataframe tbody tr th {\n",
       "        vertical-align: top;\n",
       "    }\n",
       "\n",
       "    .dataframe thead th {\n",
       "        text-align: right;\n",
       "    }\n",
       "</style>\n",
       "<table border=\"1\" class=\"dataframe\">\n",
       "  <thead>\n",
       "    <tr style=\"text-align: right;\">\n",
       "      <th></th>\n",
       "      <th>ONE</th>\n",
       "      <th>TWO</th>\n",
       "      <th>THREE</th>\n",
       "    </tr>\n",
       "  </thead>\n",
       "  <tbody>\n",
       "    <tr>\n",
       "      <th>0</th>\n",
       "      <td>1.0</td>\n",
       "      <td>6.0</td>\n",
       "      <td>11.00</td>\n",
       "    </tr>\n",
       "    <tr>\n",
       "      <th>1</th>\n",
       "      <td>2.0</td>\n",
       "      <td>7.0</td>\n",
       "      <td>12.00</td>\n",
       "    </tr>\n",
       "    <tr>\n",
       "      <th>2</th>\n",
       "      <td>3.0</td>\n",
       "      <td>8.0</td>\n",
       "      <td>13.00</td>\n",
       "    </tr>\n",
       "    <tr>\n",
       "      <th>3</th>\n",
       "      <td>4.0</td>\n",
       "      <td>9.0</td>\n",
       "      <td>12.75</td>\n",
       "    </tr>\n",
       "    <tr>\n",
       "      <th>4</th>\n",
       "      <td>5.0</td>\n",
       "      <td>7.5</td>\n",
       "      <td>15.00</td>\n",
       "    </tr>\n",
       "  </tbody>\n",
       "</table>\n",
       "</div>"
      ],
      "text/plain": [
       "   ONE  TWO  THREE\n",
       "0  1.0  6.0  11.00\n",
       "1  2.0  7.0  12.00\n",
       "2  3.0  8.0  13.00\n",
       "3  4.0  9.0  12.75\n",
       "4  5.0  7.5  15.00"
      ]
     },
     "execution_count": 11,
     "metadata": {},
     "output_type": "execute_result"
    }
   ],
   "source": [
    "list = {'ONE' : pd.Series([1,2,np.nan,4,5]),\n",
    "        'TWO' : pd.Series([6,7,8,9,np.nan]),\n",
    "        'THREE' : pd.Series([11,12,13,np.nan,15])}\n",
    "DF6 = pd.DataFrame(list)\n",
    "k = DF6['ONE'].mean()\n",
    "l = DF6['TWO'].mean()\n",
    "m = DF6['THREE'].mean()\n",
    "DF6['ONE'] = DF6['ONE'].fillna(k)\n",
    "DF6['TWO'] = DF6['TWO'].fillna(l)\n",
    "DF6['THREE'] = DF6['THREE'].fillna(m)\n",
    "DF6"
   ]
  },
  {
   "cell_type": "markdown",
   "id": "6c36f3c6",
   "metadata": {},
   "source": [
    "Handling Missing Values"
   ]
  },
  {
   "cell_type": "markdown",
   "id": "63320d1c",
   "metadata": {},
   "source": [
    "Q.12>"
   ]
  },
  {
   "cell_type": "code",
   "execution_count": 12,
   "id": "194b10e6",
   "metadata": {},
   "outputs": [
    {
     "data": {
      "text/html": [
       "<div>\n",
       "<style scoped>\n",
       "    .dataframe tbody tr th:only-of-type {\n",
       "        vertical-align: middle;\n",
       "    }\n",
       "\n",
       "    .dataframe tbody tr th {\n",
       "        vertical-align: top;\n",
       "    }\n",
       "\n",
       "    .dataframe thead th {\n",
       "        text-align: right;\n",
       "    }\n",
       "</style>\n",
       "<table border=\"1\" class=\"dataframe\">\n",
       "  <thead>\n",
       "    <tr style=\"text-align: right;\">\n",
       "      <th></th>\n",
       "      <th>Id</th>\n",
       "      <th>Name</th>\n",
       "      <th>Score</th>\n",
       "    </tr>\n",
       "  </thead>\n",
       "  <tbody>\n",
       "    <tr>\n",
       "      <th>0</th>\n",
       "      <td>101</td>\n",
       "      <td>Ayush</td>\n",
       "      <td>65</td>\n",
       "    </tr>\n",
       "    <tr>\n",
       "      <th>1</th>\n",
       "      <td>102</td>\n",
       "      <td>Vineet</td>\n",
       "      <td>70</td>\n",
       "    </tr>\n",
       "    <tr>\n",
       "      <th>2</th>\n",
       "      <td>103</td>\n",
       "      <td>Gukesh</td>\n",
       "      <td>75</td>\n",
       "    </tr>\n",
       "    <tr>\n",
       "      <th>3</th>\n",
       "      <td>104</td>\n",
       "      <td>Mayank</td>\n",
       "      <td>80</td>\n",
       "    </tr>\n",
       "    <tr>\n",
       "      <th>4</th>\n",
       "      <td>105</td>\n",
       "      <td>Raj</td>\n",
       "      <td>85</td>\n",
       "    </tr>\n",
       "  </tbody>\n",
       "</table>\n",
       "</div>"
      ],
      "text/plain": [
       "    Id    Name  Score\n",
       "0  101   Ayush     65\n",
       "1  102  Vineet     70\n",
       "2  103  Gukesh     75\n",
       "3  104  Mayank     80\n",
       "4  105     Raj     85"
      ]
     },
     "execution_count": 12,
     "metadata": {},
     "output_type": "execute_result"
    }
   ],
   "source": [
    "arr1 = {'Id' : pd.Series([101,102,103,104,105]),\n",
    "        'Name' : pd.Series(['Ayush', 'Vineet', 'Gukesh', 'Mayank', 'Raj'])\n",
    "        }\n",
    "arr2 = {'Id' : pd.Series([101,102,103,104,105]),\n",
    "        'Score' : pd.Series([65,70,75,80,85])\n",
    "        }\n",
    "DF7 = pd.DataFrame(arr1)\n",
    "DF8 = pd.DataFrame(arr2)\n",
    "\n",
    "DF9 = pd.merge(DF7, DF8, on = 'Id')\n",
    "\n",
    "DF9"
   ]
  },
  {
   "cell_type": "markdown",
   "id": "abbf05d1",
   "metadata": {},
   "source": [
    "Merging DataFrames"
   ]
  }
 ],
 "metadata": {
  "kernelspec": {
   "display_name": "Python 3",
   "language": "python",
   "name": "python3"
  },
  "language_info": {
   "codemirror_mode": {
    "name": "ipython",
    "version": 3
   },
   "file_extension": ".py",
   "mimetype": "text/x-python",
   "name": "python",
   "nbconvert_exporter": "python",
   "pygments_lexer": "ipython3",
   "version": "3.12.3"
  }
 },
 "nbformat": 4,
 "nbformat_minor": 5
}
